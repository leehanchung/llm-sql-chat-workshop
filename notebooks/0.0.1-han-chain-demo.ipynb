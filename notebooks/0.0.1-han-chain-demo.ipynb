{
 "cells": [
  {
   "cell_type": "markdown",
   "metadata": {},
   "source": [
    "# SQL Database Chain Demo"
   ]
  },
  {
   "cell_type": "code",
   "execution_count": 1,
   "metadata": {},
   "outputs": [],
   "source": [
    "import ast\n",
    "import sys\n",
    "from pathlib import Path\n",
    "import warnings\n",
    "\n",
    "from dotenv import load_dotenv\n",
    "\n",
    "\n",
    "sys.path.append('..')\n",
    "load_dotenv()\n",
    "\n",
    "import duckdb\n",
    "from duckdb_engine import DuckDBEngineWarning\n",
    "warnings.filterwarnings(\"ignore\", category=DuckDBEngineWarning)"
   ]
  },
  {
   "cell_type": "code",
   "execution_count": 2,
   "metadata": {},
   "outputs": [],
   "source": [
    "import chainlit as cl\n",
    "from langchain.chat_models.openai import ChatOpenAI\n",
    "from langchain_experimental.sql import SQLDatabaseChain\n",
    "\n",
    "from app.database import DATABASE\n"
   ]
  },
  {
   "cell_type": "code",
   "execution_count": 3,
   "metadata": {},
   "outputs": [],
   "source": [
    "llm = ChatOpenAI(\n",
    "    model_name='gpt-3.5-turbo-16k-0613',\n",
    "    temperature=0,\n",
    "    streaming=True\n",
    ")\n",
    "chain = SQLDatabaseChain.from_llm(\n",
    "    llm=llm,   \n",
    "    db=DATABASE,\n",
    ")"
   ]
  },
  {
   "cell_type": "code",
   "execution_count": 4,
   "metadata": {},
   "outputs": [
    {
     "data": {
      "text/plain": [
       "[('table',\n",
       "  'organizations',\n",
       "  'organizations',\n",
       "  0,\n",
       "  'CREATE TABLE organizations(uuid VARCHAR, \"name\" VARCHAR, \"type\" VARCHAR, permalink VARCHAR, cb_url VARCHAR, rank DOUBLE, created_at TIMESTAMP, updated_at TIMESTAMP, legal_name VARCHAR, roles VARCHAR, \"domain\" VARCHAR, homepage_url VARCHAR, country_code VARCHAR, state_code VARCHAR, region...'),\n",
       " ('table',\n",
       "  'org_parents',\n",
       "  'org_parents',\n",
       "  0,\n",
       "  'CREATE TABLE org_parents(uuid VARCHAR, \"name\" VARCHAR, \"type\" VARCHAR, permalink VARCHAR, cb_url VARCHAR, rank BIGINT, created_at TIMESTAMP, updated_at TIMESTAMP, parent_uuid VARCHAR, parent_name VARCHAR);'),\n",
       " ('table',\n",
       "  'events',\n",
       "  'events',\n",
       "  0,\n",
       "  'CREATE TABLE events(uuid VARCHAR, \"name\" VARCHAR, \"type\" VARCHAR, permalink VARCHAR, cb_url VARCHAR, rank DOUBLE, created_at TIMESTAMP, updated_at TIMESTAMP, short_description VARCHAR, started_on DATE, ended_on DATE, event_url VARCHAR, registration_url VARCHAR, venue_name VARCHAR, description...'),\n",
       " ('table',\n",
       "  'organization_descriptions',\n",
       "  'organization_descriptions',\n",
       "  0,\n",
       "  'CREATE TABLE organization_descriptions(uuid VARCHAR, \"name\" VARCHAR, \"type\" VARCHAR, permalink VARCHAR, cb_url VARCHAR, rank DOUBLE, created_at TIMESTAMP, updated_at TIMESTAMP, description VARCHAR);'),\n",
       " ('table',\n",
       "  'jobs',\n",
       "  'jobs',\n",
       "  0,\n",
       "  'CREATE TABLE jobs(uuid VARCHAR, \"name\" VARCHAR, \"type\" VARCHAR, permalink VARCHAR, cb_url VARCHAR, rank VARCHAR, created_at TIMESTAMP, updated_at TIMESTAMP, person_uuid VARCHAR, person_name VARCHAR, org_uuid VARCHAR, org_name VARCHAR, started_on DATE, ended_on DATE, is_current BOOLEAN, title...'),\n",
       " ('table',\n",
       "  'people_descriptions',\n",
       "  'people_descriptions',\n",
       "  0,\n",
       "  'CREATE TABLE people_descriptions(uuid VARCHAR, \"name\" VARCHAR, \"type\" VARCHAR, permalink VARCHAR, cb_url VARCHAR, rank DOUBLE, created_at TIMESTAMP, updated_at TIMESTAMP, description VARCHAR);'),\n",
       " ('table',\n",
       "  'funding_rounds',\n",
       "  'funding_rounds',\n",
       "  0,\n",
       "  'CREATE TABLE funding_rounds(uuid VARCHAR, \"name\" VARCHAR, \"type\" VARCHAR, permalink VARCHAR, cb_url VARCHAR, rank DOUBLE, created_at TIMESTAMP, updated_at TIMESTAMP, country_code VARCHAR, state_code VARCHAR, region VARCHAR, city VARCHAR, investment_type VARCHAR, announced_on DATE,...'),\n",
       " ('table',\n",
       "  'ipos',\n",
       "  'ipos',\n",
       "  0,\n",
       "  'CREATE TABLE ipos(uuid VARCHAR, \"name\" VARCHAR, \"type\" VARCHAR, permalink VARCHAR, cb_url VARCHAR, rank BIGINT, created_at TIMESTAMP, updated_at TIMESTAMP, org_uuid VARCHAR, org_name VARCHAR, org_cb_url VARCHAR, country_code VARCHAR, state_code VARCHAR, region VARCHAR, city VARCHAR,...'),\n",
       " ('table',\n",
       "  'acquisitions',\n",
       "  'acquisitions',\n",
       "  0,\n",
       "  'CREATE TABLE acquisitions(uuid VARCHAR, \"name\" VARCHAR, \"type\" VARCHAR, permalink VARCHAR, cb_url VARCHAR, rank BIGINT, created_at TIMESTAMP, updated_at TIMESTAMP, acquiree_uuid VARCHAR, acquiree_name VARCHAR, acquiree_cb_url VARCHAR, acquiree_country_code VARCHAR, acquiree_state_code VARCHAR,...'),\n",
       " ('table',\n",
       "  'people',\n",
       "  'people',\n",
       "  0,\n",
       "  'CREATE TABLE people(uuid VARCHAR, \"name\" VARCHAR, \"type\" VARCHAR, permalink VARCHAR, cb_url VARCHAR, rank DOUBLE, created_at TIMESTAMP, updated_at TIMESTAMP, first_name VARCHAR, last_name VARCHAR, gender VARCHAR, country_code VARCHAR, state_code VARCHAR, region VARCHAR, city VARCHAR,...'),\n",
       " ('table',\n",
       "  'funds',\n",
       "  'funds',\n",
       "  0,\n",
       "  'CREATE TABLE funds(uuid VARCHAR, \"name\" VARCHAR, \"type\" VARCHAR, permalink VARCHAR, cb_url VARCHAR, rank VARCHAR, created_at TIMESTAMP, updated_at TIMESTAMP, entity_uuid VARCHAR, entity_name VARCHAR, entity_type VARCHAR, announced_on DATE, raised_amount_usd DOUBLE, raised_amount DOUBLE,...'),\n",
       " ('table',\n",
       "  'investors',\n",
       "  'investors',\n",
       "  0,\n",
       "  'CREATE TABLE investors(uuid VARCHAR, \"name\" VARCHAR, \"type\" VARCHAR, permalink VARCHAR, cb_url VARCHAR, rank DOUBLE, created_at TIMESTAMP, updated_at TIMESTAMP, roles VARCHAR, \"domain\" VARCHAR, country_code VARCHAR, state_code VARCHAR, region VARCHAR, city VARCHAR, investor_types VARCHAR,...'),\n",
       " ('table',\n",
       "  'event_appearances',\n",
       "  'event_appearances',\n",
       "  0,\n",
       "  'CREATE TABLE event_appearances(uuid VARCHAR, \"name\" VARCHAR, \"type\" VARCHAR, permalink VARCHAR, cb_url VARCHAR, rank VARCHAR, created_at TIMESTAMP, updated_at TIMESTAMP, event_uuid VARCHAR, event_name VARCHAR, participant_uuid VARCHAR, participant_name VARCHAR, participant_type VARCHAR,...'),\n",
       " ('table',\n",
       "  'category_groups',\n",
       "  'category_groups',\n",
       "  0,\n",
       "  'CREATE TABLE category_groups(uuid VARCHAR, \"name\" VARCHAR, \"type\" VARCHAR, permalink VARCHAR, cb_url VARCHAR, rank VARCHAR, created_at TIMESTAMP, updated_at TIMESTAMP, category_groups_list VARCHAR);'),\n",
       " ('table',\n",
       "  'degrees',\n",
       "  'degrees',\n",
       "  0,\n",
       "  'CREATE TABLE degrees(uuid VARCHAR, \"name\" VARCHAR, \"type\" VARCHAR, permalink VARCHAR, cb_url VARCHAR, rank VARCHAR, created_at TIMESTAMP, updated_at TIMESTAMP, person_uuid VARCHAR, person_name VARCHAR, institution_uuid VARCHAR, institution_name VARCHAR, degree_type VARCHAR, subject VARCHAR,...'),\n",
       " ('table',\n",
       "  'investment_partners',\n",
       "  'investment_partners',\n",
       "  0,\n",
       "  'CREATE TABLE investment_partners(uuid VARCHAR, \"name\" VARCHAR, \"type\" VARCHAR, permalink VARCHAR, cb_url VARCHAR, rank VARCHAR, created_at TIMESTAMP, updated_at TIMESTAMP, funding_round_uuid VARCHAR, funding_round_name VARCHAR, investor_uuid VARCHAR, investor_name VARCHAR, partner_uuid VARCHAR,...'),\n",
       " ('table',\n",
       "  'investments',\n",
       "  'investments',\n",
       "  0,\n",
       "  'CREATE TABLE investments(uuid VARCHAR, \"name\" VARCHAR, \"type\" VARCHAR, permalink VARCHAR, cb_url VARCHAR, rank VARCHAR, created_at TIMESTAMP, updated_at TIMESTAMP, funding_round_uuid VARCHAR, funding_round_name VARCHAR, investor_uuid VARCHAR, investor_name VARCHAR, investor_type VARCHAR,...')]"
      ]
     },
     "execution_count": 4,
     "metadata": {},
     "output_type": "execute_result"
    }
   ],
   "source": [
    "ast.literal_eval(DATABASE.run(\"SELECT * FROM sqlite_master\"))"
   ]
  },
  {
   "cell_type": "code",
   "execution_count": 5,
   "metadata": {},
   "outputs": [
    {
     "data": {
      "text/plain": [
       "'[(17,)]'"
      ]
     },
     "execution_count": 5,
     "metadata": {},
     "output_type": "execute_result"
    }
   ],
   "source": [
    "DATABASE.run(\"SELECT COUNT(*) FROM information_schema.tables\")"
   ]
  },
  {
   "cell_type": "code",
   "execution_count": 6,
   "metadata": {},
   "outputs": [
    {
     "name": "stdout",
     "output_type": "stream",
     "text": [
      "There are 14 tables in the database.\n"
     ]
    }
   ],
   "source": [
    "result = chain.run(\"How many tables are there in the database?\")\n",
    "print(result)"
   ]
  },
  {
   "cell_type": "code",
   "execution_count": 7,
   "metadata": {},
   "outputs": [
    {
     "name": "stdout",
     "output_type": "stream",
     "text": [
      "tables\n",
      "acquisitions\n",
      "category_groups\n",
      "degrees\n",
      "event_appearances\n",
      "events\n",
      "funding_rounds\n",
      "funds\n",
      "investment_partners\n",
      "investments\n",
      "investors\n",
      "ipos\n",
      "jobs\n",
      "org_parents\n",
      "organization_descriptions\n",
      "organizations\n",
      "people\n",
      "people_descriptions\n"
     ]
    }
   ],
   "source": [
    "result = chain.run(\"What are the tables contained in the database?\")\n",
    "print(result)"
   ]
  },
  {
   "cell_type": "code",
   "execution_count": 8,
   "metadata": {},
   "outputs": [
    {
     "name": "stdout",
     "output_type": "stream",
     "text": [
      "The fields for the ipos table are:\n",
      "- uuid\n",
      "- name\n",
      "- type\n",
      "- permalink\n",
      "- cb_url\n",
      "- rank\n",
      "- created_at\n",
      "- updated_at\n",
      "- org_uuid\n",
      "- org_name\n",
      "- org_cb_url\n",
      "- country_code\n",
      "- state_code\n",
      "- region\n",
      "- city\n",
      "- stock_exchange_symbol\n",
      "- stock_symbol\n",
      "- went_public_on\n",
      "- share_price_usd\n",
      "- share_price\n",
      "- share_price_currency_code\n",
      "- valuation_price_usd\n",
      "- valuation_price\n",
      "- valuation_price_currency_code\n",
      "- money_raised_usd\n",
      "- money_raised\n",
      "- money_raised_currency_code\n"
     ]
    }
   ],
   "source": [
    "result = chain.run(\"What are the fields for the ipos table\")\n",
    "print(result)"
   ]
  },
  {
   "cell_type": "code",
   "execution_count": 9,
   "metadata": {},
   "outputs": [
    {
     "data": {
      "text/plain": [
       "'duckdb'"
      ]
     },
     "execution_count": 9,
     "metadata": {},
     "output_type": "execute_result"
    }
   ],
   "source": [
    "DATABASE.dialect"
   ]
  },
  {
   "cell_type": "code",
   "execution_count": null,
   "metadata": {},
   "outputs": [],
   "source": []
  }
 ],
 "metadata": {
  "kernelspec": {
   "display_name": ".venv",
   "language": "python",
   "name": "python3"
  },
  "language_info": {
   "codemirror_mode": {
    "name": "ipython",
    "version": 3
   },
   "file_extension": ".py",
   "mimetype": "text/x-python",
   "name": "python",
   "nbconvert_exporter": "python",
   "pygments_lexer": "ipython3",
   "version": "3.10.10"
  },
  "orig_nbformat": 4
 },
 "nbformat": 4,
 "nbformat_minor": 2
}
