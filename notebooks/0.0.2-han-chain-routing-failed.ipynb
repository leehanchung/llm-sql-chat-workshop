{
 "cells": [
  {
   "cell_type": "markdown",
   "metadata": {},
   "source": [
    "# Router\n",
    "\n",
    "Because the SQLDatabaseChain were involked every single time, we seek to route it to a generic LLMChain when the query does not require querying the database. Here's our failed attempt."
   ]
  },
  {
   "cell_type": "code",
   "execution_count": 1,
   "metadata": {},
   "outputs": [],
   "source": [
    "import ast\n",
    "import sys\n",
    "from pathlib import Path\n",
    "import warnings\n",
    "\n",
    "from dotenv import load_dotenv\n",
    "\n",
    "\n",
    "sys.path.append('..')\n",
    "load_dotenv()\n",
    "\n",
    "import duckdb\n",
    "from duckdb_engine import DuckDBEngineWarning\n",
    "warnings.filterwarnings(\"ignore\", category=DuckDBEngineWarning)"
   ]
  },
  {
   "cell_type": "code",
   "execution_count": 2,
   "metadata": {},
   "outputs": [],
   "source": [
    "from langchain.chains.router import MultiPromptChain\n",
    "from langchain.llms import OpenAI\n",
    "from langchain.chains import ConversationChain\n",
    "from langchain.chains import ConversationChain\n",
    "from langchain.chains.router.llm_router import LLMRouterChain, RouterOutputParser\n",
    "from langchain.chains.router.multi_prompt_prompt import MULTI_PROMPT_ROUTER_TEMPLATE\n",
    "from langchain.chains.llm import LLMChain\n",
    "\n",
    "from langchain.chat_models import ChatOpenAI\n",
    "from langchain.prompts.prompt import PromptTemplate\n",
    "from langchain.prompts import PromptTemplate\n",
    "\n",
    "from app.usecases.sql import SQLDatabaseSequentialChain\n",
    "from app.usecases.multi_sql import MultiRouteChain, MultiSQLChain\n",
    "from app.database import DATABASE\n",
    "\n",
    "gpt4_llm = ChatOpenAI(\n",
    "    model_name='gpt-4-32k-0613',\n",
    "    temperature=0,\n",
    "    streaming=True\n",
    ")\n",
    "sql_dastabase_chain = SQLDatabaseSequentialChain.from_llm(\n",
    "    llm=gpt4_llm,    \n",
    "    database=DATABASE,\n",
    "    verbose=True\n",
    ")\n",
    "\n",
    "gpt3_llm = ChatOpenAI(\n",
    "    model_name='gpt-3.5-16k-0613',\n",
    "    temperature=0,\n",
    "    streaming=True\n",
    ")\n",
    "meta_chain = ConversationChain(\n",
    "    llm=gpt3_llm,\n",
    "    output_key=\"Answer:\"\n",
    ")\n",
    "\n",
    "destination_chains = {\n",
    "    # \"meta\": meta_chain,\n",
    "    \"sql_database\": sql_dastabase_chain,\n",
    "}"
   ]
  },
  {
   "cell_type": "code",
   "execution_count": 3,
   "metadata": {},
   "outputs": [],
   "source": [
    "\n",
    "destinations = [\n",
    "    # \"\"\"meta: Good for answering questions without running SQL queries\"\"\",\n",
    "    \"\"\"sql_database: Only used for querying database for answers.\"\"\"\n",
    "]\n",
    "destinations_str = \"\\n\".join(destinations)\n",
    "\n",
    "router_template = MULTI_PROMPT_ROUTER_TEMPLATE.format(destinations=destinations_str)\n"
   ]
  },
  {
   "cell_type": "code",
   "execution_count": 4,
   "metadata": {},
   "outputs": [
    {
     "name": "stdout",
     "output_type": "stream",
     "text": [
      "Given a raw text input to a language model select the model prompt best suited for the input. You will be given the names of the available prompts and a description of what the prompt is best suited for. You may also revise the original input if you think that revising it will ultimately lead to a better response from the language model.\n",
      "\n",
      "<< FORMATTING >>\n",
      "Return a markdown code snippet with a JSON object formatted to look like:\n",
      "```json\n",
      "{{\n",
      "    \"destination\": string \\ name of the prompt to use or \"DEFAULT\"\n",
      "    \"next_inputs\": string \\ a potentially modified version of the original input\n",
      "}}\n",
      "```\n",
      "\n",
      "REMEMBER: \"destination\" MUST be one of the candidate prompt names specified below OR it can be \"DEFAULT\" if the input is not well suited for any of the candidate prompts.\n",
      "REMEMBER: \"next_inputs\" can just be the original input if you don't think any modifications are needed.\n",
      "\n",
      "<< CANDIDATE PROMPTS >>\n",
      "sql_database: Only used for querying database for answers.\n",
      "\n",
      "<< INPUT >>\n",
      "{input}\n",
      "\n",
      "<< OUTPUT >>\n",
      "\n"
     ]
    }
   ],
   "source": [
    "print(router_template)"
   ]
  },
  {
   "cell_type": "code",
   "execution_count": 5,
   "metadata": {},
   "outputs": [],
   "source": [
    "router_prompt = PromptTemplate(\n",
    "    template=router_template,\n",
    "    input_variables=[\"input\"],\n",
    "    output_parser=RouterOutputParser(),\n",
    ")"
   ]
  },
  {
   "cell_type": "code",
   "execution_count": 6,
   "metadata": {},
   "outputs": [],
   "source": [
    "router_chain = LLMRouterChain.from_llm(gpt3_llm, router_prompt)"
   ]
  },
  {
   "cell_type": "code",
   "execution_count": 7,
   "metadata": {},
   "outputs": [
    {
     "ename": "ValidationError",
     "evalue": "4 validation errors for MultiSQLChain\ndestination_chains -> sql_database -> llm_chain\n  field required (type=value_error.missing)\ndestination_chains -> sql_database -> database\n  field required (type=value_error.missing)\ndestination_chains -> sql_database -> decider_chain\n  extra fields not permitted (type=value_error.extra)\ndestination_chains -> sql_database -> sql_chain\n  extra fields not permitted (type=value_error.extra)",
     "output_type": "error",
     "traceback": [
      "\u001b[0;31m---------------------------------------------------------------------------\u001b[0m",
      "\u001b[0;31mValidationError\u001b[0m                           Traceback (most recent call last)",
      "Cell \u001b[0;32mIn[7], line 1\u001b[0m\n\u001b[0;32m----> 1\u001b[0m chain \u001b[39m=\u001b[39m MultiSQLChain(\n\u001b[1;32m      2\u001b[0m     router_chain\u001b[39m=\u001b[39;49mrouter_chain,\n\u001b[1;32m      3\u001b[0m     destination_chains\u001b[39m=\u001b[39;49mdestination_chains,\n\u001b[1;32m      4\u001b[0m     default_chain\u001b[39m=\u001b[39;49mmeta_chain,\n\u001b[1;32m      5\u001b[0m     verbose\u001b[39m=\u001b[39;49m\u001b[39mTrue\u001b[39;49;00m,\n\u001b[1;32m      6\u001b[0m )\n",
      "File \u001b[0;32m~/projects/llm-sql-agent-template/.venv/lib/python3.10/site-packages/langchain/load/serializable.py:74\u001b[0m, in \u001b[0;36mSerializable.__init__\u001b[0;34m(self, **kwargs)\u001b[0m\n\u001b[1;32m     73\u001b[0m \u001b[39mdef\u001b[39;00m \u001b[39m__init__\u001b[39m(\u001b[39mself\u001b[39m, \u001b[39m*\u001b[39m\u001b[39m*\u001b[39mkwargs: Any) \u001b[39m-\u001b[39m\u001b[39m>\u001b[39m \u001b[39mNone\u001b[39;00m:\n\u001b[0;32m---> 74\u001b[0m     \u001b[39msuper\u001b[39;49m()\u001b[39m.\u001b[39;49m\u001b[39m__init__\u001b[39;49m(\u001b[39m*\u001b[39;49m\u001b[39m*\u001b[39;49mkwargs)\n\u001b[1;32m     75\u001b[0m     \u001b[39mself\u001b[39m\u001b[39m.\u001b[39m_lc_kwargs \u001b[39m=\u001b[39m kwargs\n",
      "File \u001b[0;32m~/projects/llm-sql-agent-template/.venv/lib/python3.10/site-packages/pydantic/main.py:341\u001b[0m, in \u001b[0;36mpydantic.main.BaseModel.__init__\u001b[0;34m()\u001b[0m\n",
      "\u001b[0;31mValidationError\u001b[0m: 4 validation errors for MultiSQLChain\ndestination_chains -> sql_database -> llm_chain\n  field required (type=value_error.missing)\ndestination_chains -> sql_database -> database\n  field required (type=value_error.missing)\ndestination_chains -> sql_database -> decider_chain\n  extra fields not permitted (type=value_error.extra)\ndestination_chains -> sql_database -> sql_chain\n  extra fields not permitted (type=value_error.extra)"
     ]
    }
   ],
   "source": [
    "chain = MultiSQLChain(\n",
    "    router_chain=router_chain,\n",
    "    destination_chains=destination_chains,\n",
    "    default_chain=meta_chain,\n",
    "    verbose=True,\n",
    ")"
   ]
  },
  {
   "cell_type": "markdown",
   "metadata": {},
   "source": [
    "# Abort!!\n",
    "\n",
    "Seems like Langchain does not like routing between regular Chains and SQLDatabaseChains, we decided to abort the effort of writing custom classes and use SQLAgent instead."
   ]
  }
 ],
 "metadata": {
  "kernelspec": {
   "display_name": ".venv",
   "language": "python",
   "name": "python3"
  },
  "language_info": {
   "codemirror_mode": {
    "name": "ipython",
    "version": 3
   },
   "file_extension": ".py",
   "mimetype": "text/x-python",
   "name": "python",
   "nbconvert_exporter": "python",
   "pygments_lexer": "ipython3",
   "version": "3.10.10"
  },
  "orig_nbformat": 4
 },
 "nbformat": 4,
 "nbformat_minor": 2
}
